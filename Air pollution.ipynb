{
 "cells": [
  {
   "cell_type": "code",
   "execution_count": 5,
   "metadata": {},
   "outputs": [],
   "source": [
    "import pandas as pd\n",
    "import numpy as np\n",
    "import matplotlib.pyplot as plt\n",
    "import os"
   ]
  },
  {
   "cell_type": "code",
   "execution_count": 6,
   "metadata": {},
   "outputs": [],
   "source": [
    "df = pd.read_csv(\"C:/Users/Rohit/Downloads/house-prices-advanced-regression-techniques/train.csv\")\n",
    "df1 = pd.read_csv(\"C:/Users/Rohit/Downloads/house-prices-advanced-regression-techniques/test.csv\")"
   ]
  },
  {
   "cell_type": "code",
   "execution_count": 7,
   "metadata": {},
   "outputs": [],
   "source": [
    "data1 = df.values\n",
    "xt = df1.values\n",
    "xtr = data1[ : , :-1]\n",
    "ytr = data1[: ,-1:]\n"
   ]
  },
  {
   "cell_type": "code",
   "execution_count": 9,
   "metadata": {},
   "outputs": [],
   "source": []
  },
  {
   "cell_type": "code",
   "execution_count": 10,
   "metadata": {},
   "outputs": [],
   "source": []
  },
  {
   "cell_type": "code",
   "execution_count": null,
   "metadata": {},
   "outputs": [],
   "source": []
  },
  {
   "cell_type": "code",
   "execution_count": null,
   "metadata": {},
   "outputs": [],
   "source": [
    "mean = xtr.mean(axis = 0)\n",
    "std = xtr.std(axis = 0)\n",
    "mean = xt.mean(axis = 0)\n",
    "std = xt.std(axis = 0)"
   ]
  },
  {
   "cell_type": "code",
   "execution_count": 5,
   "metadata": {},
   "outputs": [],
   "source": [
    "xt1 = (xt-mean)/std\n",
    "xtr1 = (xtr-mean)/std"
   ]
  },
  {
   "cell_type": "code",
   "execution_count": 6,
   "metadata": {},
   "outputs": [],
   "source": [
    "ones1 = np.ones((xt1.shape[0],1))\n",
    "ones = np.ones((xtr1.shape[0],1))"
   ]
  },
  {
   "cell_type": "code",
   "execution_count": 7,
   "metadata": {},
   "outputs": [],
   "source": [
    "xt1 = np.hstack((ones1,xt1))\n",
    "xtr1 = np.hstack((ones,xtr1))"
   ]
  },
  {
   "cell_type": "code",
   "execution_count": 10,
   "metadata": {},
   "outputs": [
    {
     "data": {
      "text/plain": [
       "((1600, 6), (400, 6), (1600, 1))"
      ]
     },
     "execution_count": 10,
     "metadata": {},
     "output_type": "execute_result"
    }
   ],
   "source": [
    "xtr1.shape,xt1.shape,ytr.shape"
   ]
  },
  {
   "cell_type": "code",
   "execution_count": 11,
   "metadata": {},
   "outputs": [],
   "source": [
    "def hypo(xt,theta):\n",
    "    return np.dot(xt,theta)\n",
    "\n",
    "def error(xtr,ytr,theta):\n",
    "    e = 0.0\n",
    "    m = xtr.shape[0]\n",
    "    y1 = hypo(xtr,theta)\n",
    "    e = np.sum((y1-ytr)**2) \n",
    "    return e/m\n",
    "\n",
    "def gradient(xtr,ytr,theta):\n",
    "    m,n = xtr.shape\n",
    "    yt = hypo(xtr,theta)\n",
    "    grad = np.dot(xtr.T,(yt-ytr))\n",
    "    return grad/m\n",
    "def descenttt(xtr,ytr,rate = 0.01,epochs = 300,batchsize = 20):\n",
    "    m,n = xtr.shape\n",
    "    errorlist = []\n",
    "    theta = np.zeros((n,))\n",
    "    data = np.hstack((xtr,ytr.reshape(-1,1)))\n",
    "    for i in range(epochs):\n",
    "        np.random.shuffle(data)\n",
    "        r = data.shape[0]\n",
    "        batch = r//batchsize\n",
    "        for j in range(batch):\n",
    "            batchdata = data[j*batchsize:(j+1)*batchsize,:]\n",
    "            xx = batchdata[ : , :-1]\n",
    "            yy = batchdata[ : ,-1]\n",
    "            grad = gradient(xx,yy,theta)\n",
    "            theta = theta - rate*grad\n",
    "            ef = error(xx,yy,theta)\n",
    "            errorlist.append(ef)\n",
    "\n",
    "    return theta,errorlist"
   ]
  },
  {
   "cell_type": "code",
   "execution_count": 13,
   "metadata": {},
   "outputs": [
    {
     "data": {
      "text/plain": [
       "[<matplotlib.lines.Line2D at 0x14e8b070>]"
      ]
     },
     "execution_count": 13,
     "metadata": {},
     "output_type": "execute_result"
    },
    {
     "data": {
      "image/png": "[encoded data removed]",
      "text/plain": [
       "<Figure size 432x288 with 1 Axes>"
      ]
     },
     "metadata": {
      "needs_background": "light"
     },
     "output_type": "display_data"
    }
   ],
   "source": [
    "theta,errorl = descenttt(xtr1,ytr)\n",
    "plt.plot(errorl)"
   ]
  },
  {
   "cell_type": "code",
   "execution_count": 14,
   "metadata": {},
   "outputs": [],
   "source": [
    "yy = hypo(xt1,theta)"
   ]
  },
  {
   "cell_type": "code",
   "execution_count": 15,
   "metadata": {},
   "outputs": [
    {
     "data": {
      "text/plain": [
       "(400,)"
      ]
     },
     "execution_count": 15,
     "metadata": {},
     "output_type": "execute_result"
    }
   ],
   "source": [
    "yy.shape"
   ]
  },
  {
   "cell_type": "code",
   "execution_count": 1,
   "metadata": {},
   "outputs": [
    {
     "ename": "NameError",
     "evalue": "name 'pd' is not defined",
     "output_type": "error",
     "traceback": [
      "\u001b[1;31m---------------------------------------------------------------------------\u001b[0m",
      "\u001b[1;31mNameError\u001b[0m                                 Traceback (most recent call last)",
      "\u001b[1;32m<ipython-input-1-f290eb24e3c2>\u001b[0m in \u001b[0;36m<module>\u001b[1;34m\u001b[0m\n\u001b[1;32m----> 1\u001b[1;33m \u001b[0mab\u001b[0m \u001b[1;33m=\u001b[0m \u001b[0mpd\u001b[0m\u001b[1;33m.\u001b[0m\u001b[0mDataFrame\u001b[0m\u001b[1;33m(\u001b[0m\u001b[0myy\u001b[0m\u001b[1;33m,\u001b[0m\u001b[0mcolumns\u001b[0m \u001b[1;33m=\u001b[0m \u001b[1;33m[\u001b[0m\u001b[1;34m'target'\u001b[0m\u001b[1;33m]\u001b[0m\u001b[1;33m)\u001b[0m\u001b[1;33m\u001b[0m\u001b[1;33m\u001b[0m\u001b[0m\n\u001b[0m",
      "\u001b[1;31mNameError\u001b[0m: name 'pd' is not defined"
     ]
    }
   ],
   "source": [
    "ab = pd.DataFrame(yy,columns = ['target'])"
   ]
  },
  {
   "cell_type": "code",
   "execution_count": 18,
   "metadata": {},
   "outputs": [],
   "source": [
    "ab.to_csv('test11.csv')"
   ]
  },
  {
   "cell_type": "code",
   "execution_count": null,
   "metadata": {},
   "outputs": [],
   "source": []
  }
 ],
 "metadata": {
  "kernelspec": {
   "display_name": "Python 3",
   "language": "python",
   "name": "python3"
  },
  "language_info": {
   "codemirror_mode": {
    "name": "ipython",
    "version": 3
   },
   "file_extension": ".py",
   "mimetype": "text/x-python",
   "name": "python",
   "nbconvert_exporter": "python",
   "pygments_lexer": "ipython3",
   "version": "3.8.5"
  }
 },
 "nbformat": 4,
 "nbformat_minor": 4
}
